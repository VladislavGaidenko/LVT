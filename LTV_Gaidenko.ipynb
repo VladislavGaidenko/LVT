{
 "cells": [
  {
   "cell_type": "markdown",
   "metadata": {},
   "source": [
    "## Цель работы:\n",
    "Определить LTV пользователя"
   ]
  },
  {
   "cell_type": "markdown",
   "metadata": {},
   "source": [
    "## Описание данных:\n",
    "start_dt — дата старта визита\n",
    "\n",
    "start_ts — дата и время старта визита\n",
    "\n",
    "end_ts — дата окончания визита\n",
    "\n",
    "uid — идентификатор пользователя\n",
    "\n",
    "source_id — id источника визита\n",
    "\n",
    "device — устройство\n",
    "\n",
    "buy_ts — дата и время покупки\n",
    "\n",
    "revenue — доход в y.e."
   ]
  },
  {
   "cell_type": "markdown",
   "metadata": {},
   "source": [
    "## 1. Файл с данными и общая информация"
   ]
  },
  {
   "cell_type": "code",
   "execution_count": 270,
   "metadata": {},
   "outputs": [],
   "source": [
    "import pandas as pd\n",
    "import numpy as np\n",
    "import matplotlib.pyplot as plt\n",
    "import seaborn as sns\n",
    "from scipy import stats as st\n",
    "import warnings"
   ]
  },
  {
   "cell_type": "code",
   "execution_count": 271,
   "metadata": {},
   "outputs": [
    {
     "data": {
      "text/html": [
       "<div>\n",
       "<style scoped>\n",
       "    .dataframe tbody tr th:only-of-type {\n",
       "        vertical-align: middle;\n",
       "    }\n",
       "\n",
       "    .dataframe tbody tr th {\n",
       "        vertical-align: top;\n",
       "    }\n",
       "\n",
       "    .dataframe thead th {\n",
       "        text-align: right;\n",
       "    }\n",
       "</style>\n",
       "<table border=\"1\" class=\"dataframe\">\n",
       "  <thead>\n",
       "    <tr style=\"text-align: right;\">\n",
       "      <th></th>\n",
       "      <th>device</th>\n",
       "      <th>end_ts</th>\n",
       "      <th>source_id</th>\n",
       "      <th>start_dt</th>\n",
       "      <th>start_ts</th>\n",
       "      <th>uid</th>\n",
       "    </tr>\n",
       "  </thead>\n",
       "  <tbody>\n",
       "    <tr>\n",
       "      <th>0</th>\n",
       "      <td>desktop</td>\n",
       "      <td>2016-11-30T11:04:17Z</td>\n",
       "      <td>2</td>\n",
       "      <td>2016-11-30</td>\n",
       "      <td>2016-11-30T10:53:49Z</td>\n",
       "      <td>3758486201</td>\n",
       "    </tr>\n",
       "    <tr>\n",
       "      <th>1</th>\n",
       "      <td>desktop</td>\n",
       "      <td>2016-11-10T23:16:57Z</td>\n",
       "      <td>4</td>\n",
       "      <td>2016-11-10</td>\n",
       "      <td>2016-11-10T23:08:04Z</td>\n",
       "      <td>2933941628</td>\n",
       "    </tr>\n",
       "    <tr>\n",
       "      <th>2</th>\n",
       "      <td>desktop</td>\n",
       "      <td>2016-10-19T18:51:56Z</td>\n",
       "      <td>1</td>\n",
       "      <td>2016-10-19</td>\n",
       "      <td>2016-10-19T18:48:16Z</td>\n",
       "      <td>1465872791</td>\n",
       "    </tr>\n",
       "    <tr>\n",
       "      <th>3</th>\n",
       "      <td>desktop</td>\n",
       "      <td>2017-01-12T20:51:55Z</td>\n",
       "      <td>9</td>\n",
       "      <td>2017-01-12</td>\n",
       "      <td>2017-01-12T20:50:10Z</td>\n",
       "      <td>2751875787</td>\n",
       "    </tr>\n",
       "    <tr>\n",
       "      <th>4</th>\n",
       "      <td>touch</td>\n",
       "      <td>2016-07-23T19:17:19Z</td>\n",
       "      <td>4</td>\n",
       "      <td>2016-07-23</td>\n",
       "      <td>2016-07-23T19:10:57Z</td>\n",
       "      <td>3492372810</td>\n",
       "    </tr>\n",
       "  </tbody>\n",
       "</table>\n",
       "</div>"
      ],
      "text/plain": [
       "    device                end_ts  source_id    start_dt              start_ts  \\\n",
       "0  desktop  2016-11-30T11:04:17Z          2  2016-11-30  2016-11-30T10:53:49Z   \n",
       "1  desktop  2016-11-10T23:16:57Z          4  2016-11-10  2016-11-10T23:08:04Z   \n",
       "2  desktop  2016-10-19T18:51:56Z          1  2016-10-19  2016-10-19T18:48:16Z   \n",
       "3  desktop  2017-01-12T20:51:55Z          9  2017-01-12  2017-01-12T20:50:10Z   \n",
       "4    touch  2016-07-23T19:17:19Z          4  2016-07-23  2016-07-23T19:10:57Z   \n",
       "\n",
       "          uid  \n",
       "0  3758486201  \n",
       "1  2933941628  \n",
       "2  1465872791  \n",
       "3  2751875787  \n",
       "4  3492372810  "
      ]
     },
     "execution_count": 271,
     "metadata": {},
     "output_type": "execute_result"
    }
   ],
   "source": [
    "visits = pd.read_csv('visits.csv', sep='\\t') # загружаем датасет visits\n",
    "visits.head()"
   ]
  },
  {
   "cell_type": "code",
   "execution_count": 272,
   "metadata": {},
   "outputs": [
    {
     "data": {
      "text/html": [
       "<div>\n",
       "<style scoped>\n",
       "    .dataframe tbody tr th:only-of-type {\n",
       "        vertical-align: middle;\n",
       "    }\n",
       "\n",
       "    .dataframe tbody tr th {\n",
       "        vertical-align: top;\n",
       "    }\n",
       "\n",
       "    .dataframe thead th {\n",
       "        text-align: right;\n",
       "    }\n",
       "</style>\n",
       "<table border=\"1\" class=\"dataframe\">\n",
       "  <thead>\n",
       "    <tr style=\"text-align: right;\">\n",
       "      <th></th>\n",
       "      <th>buy_ts</th>\n",
       "      <th>uid</th>\n",
       "      <th>revenue</th>\n",
       "    </tr>\n",
       "  </thead>\n",
       "  <tbody>\n",
       "    <tr>\n",
       "      <th>0</th>\n",
       "      <td>23.07.2016 19:13:54</td>\n",
       "      <td>3492372810</td>\n",
       "      <td>1,47</td>\n",
       "    </tr>\n",
       "    <tr>\n",
       "      <th>1</th>\n",
       "      <td>06.11.2016 02:48:27</td>\n",
       "      <td>1564753091</td>\n",
       "      <td>1,11</td>\n",
       "    </tr>\n",
       "    <tr>\n",
       "      <th>2</th>\n",
       "      <td>31.01.2017 20:32:42</td>\n",
       "      <td>1385616391</td>\n",
       "      <td>16,8</td>\n",
       "    </tr>\n",
       "    <tr>\n",
       "      <th>3</th>\n",
       "      <td>11.01.2017 10:52:11</td>\n",
       "      <td>2636761148</td>\n",
       "      <td>11</td>\n",
       "    </tr>\n",
       "    <tr>\n",
       "      <th>4</th>\n",
       "      <td>25.11.2016 18:57:09</td>\n",
       "      <td>2945629974</td>\n",
       "      <td>4,89</td>\n",
       "    </tr>\n",
       "  </tbody>\n",
       "</table>\n",
       "</div>"
      ],
      "text/plain": [
       "                buy_ts         uid revenue\n",
       "0  23.07.2016 19:13:54  3492372810    1,47\n",
       "1  06.11.2016 02:48:27  1564753091    1,11\n",
       "2  31.01.2017 20:32:42  1385616391    16,8\n",
       "3  11.01.2017 10:52:11  2636761148      11\n",
       "4  25.11.2016 18:57:09  2945629974    4,89"
      ]
     },
     "execution_count": 272,
     "metadata": {},
     "output_type": "execute_result"
    }
   ],
   "source": [
    "purchases = pd.read_csv('purchases.csv', sep='\\t') # загружаем датасет purchases\n",
    "purchases.head()"
   ]
  },
  {
   "cell_type": "code",
   "execution_count": 273,
   "metadata": {},
   "outputs": [
    {
     "name": "stdout",
     "output_type": "stream",
     "text": [
      "<class 'pandas.core.frame.DataFrame'>\n",
      "RangeIndex: 720679 entries, 0 to 720678\n",
      "Data columns (total 6 columns):\n",
      " #   Column     Non-Null Count   Dtype \n",
      "---  ------     --------------   ----- \n",
      " 0   device     720679 non-null  object\n",
      " 1   end_ts     720679 non-null  object\n",
      " 2   source_id  720679 non-null  int64 \n",
      " 3   start_dt   720679 non-null  object\n",
      " 4   start_ts   720679 non-null  object\n",
      " 5   uid        720679 non-null  int64 \n",
      "dtypes: int64(2), object(4)\n",
      "memory usage: 33.0+ MB\n"
     ]
    }
   ],
   "source": [
    "visits.info() # смотрим общую информацию"
   ]
  },
  {
   "cell_type": "code",
   "execution_count": 274,
   "metadata": {},
   "outputs": [
    {
     "name": "stdout",
     "output_type": "stream",
     "text": [
      "<class 'pandas.core.frame.DataFrame'>\n",
      "RangeIndex: 75716 entries, 0 to 75715\n",
      "Data columns (total 3 columns):\n",
      " #   Column   Non-Null Count  Dtype \n",
      "---  ------   --------------  ----- \n",
      " 0   buy_ts   75716 non-null  object\n",
      " 1   uid      75716 non-null  int64 \n",
      " 2   revenue  75716 non-null  object\n",
      "dtypes: int64(1), object(2)\n",
      "memory usage: 1.7+ MB\n"
     ]
    }
   ],
   "source": [
    "purchases.info() # смотрим общую информацию"
   ]
  },
  {
   "cell_type": "markdown",
   "metadata": {},
   "source": [
    "## Вывод:\n",
    "Датафрейм visits состоит из 720679 строк и 6 столбцов\n",
    "\n",
    "Датафрейм purchases состоит из 75716 строк и 3 столбцов\n",
    "\n",
    "Пропусков в датафремах нету\n",
    "\n",
    "Видно, что столбец revenue имеет тип object и число форматом (X,X), в дальнейшей работе поменяем (, на .) и тип данных на float64\n",
    "\n",
    "Также в visits столбцы end_ts и start_ts нужно преобразовать в формат datetime64"
   ]
  },
  {
   "cell_type": "markdown",
   "metadata": {},
   "source": [
    "## 2. Преобразование данных в нужный тип"
   ]
  },
  {
   "cell_type": "code",
   "execution_count": 275,
   "metadata": {},
   "outputs": [],
   "source": [
    "purchases['revenue'] = purchases['revenue'].str.replace(',', '.') # заменяем запятую на точку"
   ]
  },
  {
   "cell_type": "code",
   "execution_count": 276,
   "metadata": {},
   "outputs": [],
   "source": [
    "purchases['revenue'] = pd.to_numeric(purchases['revenue'], errors='raise') # преобразуем object в float"
   ]
  },
  {
   "cell_type": "code",
   "execution_count": 277,
   "metadata": {},
   "outputs": [
    {
     "name": "stdout",
     "output_type": "stream",
     "text": [
      "<class 'pandas.core.frame.DataFrame'>\n",
      "RangeIndex: 75716 entries, 0 to 75715\n",
      "Data columns (total 3 columns):\n",
      " #   Column   Non-Null Count  Dtype  \n",
      "---  ------   --------------  -----  \n",
      " 0   buy_ts   75716 non-null  object \n",
      " 1   uid      75716 non-null  int64  \n",
      " 2   revenue  75716 non-null  float64\n",
      "dtypes: float64(1), int64(1), object(1)\n",
      "memory usage: 1.7+ MB\n"
     ]
    }
   ],
   "source": [
    "purchases.info() # проверяем преобразование"
   ]
  },
  {
   "cell_type": "code",
   "execution_count": 278,
   "metadata": {},
   "outputs": [],
   "source": [
    "visits['start_ts'] = pd.to_datetime(visits['start_ts'], format='%Y-%m-%d %H:%M:%S')\n",
    "visits['end_ts'] = pd.to_datetime(visits['end_ts'], format='%Y-%m-%d %H:%M:%S')"
   ]
  },
  {
   "cell_type": "code",
   "execution_count": 313,
   "metadata": {},
   "outputs": [],
   "source": [
    "visits['session_year']  = visits['start_ts'].values.astype('datetime64[Y]')  #cоздаем столбец с годом\n",
    "visits['session_month'] = visits['start_ts'].values.astype('datetime64[M]')  #cоздаем столбец с месяцем"
   ]
  },
  {
   "cell_type": "code",
   "execution_count": 280,
   "metadata": {},
   "outputs": [
    {
     "name": "stdout",
     "output_type": "stream",
     "text": [
      "<class 'pandas.core.frame.DataFrame'>\n",
      "RangeIndex: 720679 entries, 0 to 720678\n",
      "Data columns (total 8 columns):\n",
      " #   Column         Non-Null Count   Dtype              \n",
      "---  ------         --------------   -----              \n",
      " 0   device         720679 non-null  object             \n",
      " 1   end_ts         720679 non-null  datetime64[ns, UTC]\n",
      " 2   source_id      720679 non-null  int64              \n",
      " 3   start_dt       720679 non-null  object             \n",
      " 4   start_ts       720679 non-null  datetime64[ns, UTC]\n",
      " 5   uid            720679 non-null  int64              \n",
      " 6   session_year   720679 non-null  datetime64[ns]     \n",
      " 7   session_month  720679 non-null  datetime64[ns]     \n",
      "dtypes: datetime64[ns, UTC](2), datetime64[ns](2), int64(2), object(2)\n",
      "memory usage: 44.0+ MB\n"
     ]
    }
   ],
   "source": [
    "visits.info() # проверяем преобразование"
   ]
  },
  {
   "cell_type": "code",
   "execution_count": 281,
   "metadata": {},
   "outputs": [],
   "source": [
    "purchases['buy_ts'] = purchases['buy_ts'].astype('datetime64[M]')"
   ]
  },
  {
   "cell_type": "markdown",
   "metadata": {},
   "source": [
    "## 3. Расчет LVT"
   ]
  },
  {
   "cell_type": "markdown",
   "metadata": {},
   "source": [
    "LVT = revenue * margin_rate / n_buyers, где\n",
    "\n",
    "- revenue - выручка\n",
    "- margin_rate - частоту повторных покупок\n",
    "- n_buyers - количество уникальных покупателей\n",
    "\n",
    "Расчитаем LTV с помощью когортного анализа. "
   ]
  },
  {
   "cell_type": "code",
   "execution_count": 282,
   "metadata": {},
   "outputs": [
    {
     "data": {
      "text/html": [
       "<div>\n",
       "<style scoped>\n",
       "    .dataframe tbody tr th:only-of-type {\n",
       "        vertical-align: middle;\n",
       "    }\n",
       "\n",
       "    .dataframe tbody tr th {\n",
       "        vertical-align: top;\n",
       "    }\n",
       "\n",
       "    .dataframe thead th {\n",
       "        text-align: right;\n",
       "    }\n",
       "</style>\n",
       "<table border=\"1\" class=\"dataframe\">\n",
       "  <thead>\n",
       "    <tr style=\"text-align: right;\">\n",
       "      <th></th>\n",
       "      <th>uid</th>\n",
       "      <th>first_buy_month</th>\n",
       "    </tr>\n",
       "  </thead>\n",
       "  <tbody>\n",
       "    <tr>\n",
       "      <th>0</th>\n",
       "      <td>157352</td>\n",
       "      <td>2016-06-01</td>\n",
       "    </tr>\n",
       "    <tr>\n",
       "      <th>1</th>\n",
       "      <td>256370</td>\n",
       "      <td>2016-06-01</td>\n",
       "    </tr>\n",
       "    <tr>\n",
       "      <th>2</th>\n",
       "      <td>308857</td>\n",
       "      <td>2016-06-01</td>\n",
       "    </tr>\n",
       "    <tr>\n",
       "      <th>3</th>\n",
       "      <td>352142</td>\n",
       "      <td>2017-02-01</td>\n",
       "    </tr>\n",
       "    <tr>\n",
       "      <th>4</th>\n",
       "      <td>445960</td>\n",
       "      <td>2016-10-01</td>\n",
       "    </tr>\n",
       "  </tbody>\n",
       "</table>\n",
       "</div>"
      ],
      "text/plain": [
       "      uid first_buy_month\n",
       "0  157352      2016-06-01\n",
       "1  256370      2016-06-01\n",
       "2  308857      2016-06-01\n",
       "3  352142      2017-02-01\n",
       "4  445960      2016-10-01"
      ]
     },
     "execution_count": 282,
     "metadata": {},
     "output_type": "execute_result"
    }
   ],
   "source": [
    "first_purchases = purchases.groupby('uid').agg({'buy_ts': 'min'}).reset_index() #группируем таблицу с датой покупки\n",
    "first_purchases.columns = ['uid', 'first_buy_month'] #создаем название столбцов\n",
    "first_purchases.head() "
   ]
  },
  {
   "cell_type": "code",
   "execution_count": 283,
   "metadata": {},
   "outputs": [
    {
     "data": {
      "text/html": [
       "<div>\n",
       "<style scoped>\n",
       "    .dataframe tbody tr th:only-of-type {\n",
       "        vertical-align: middle;\n",
       "    }\n",
       "\n",
       "    .dataframe tbody tr th {\n",
       "        vertical-align: top;\n",
       "    }\n",
       "\n",
       "    .dataframe thead th {\n",
       "        text-align: right;\n",
       "    }\n",
       "</style>\n",
       "<table border=\"1\" class=\"dataframe\">\n",
       "  <thead>\n",
       "    <tr style=\"text-align: right;\">\n",
       "      <th></th>\n",
       "      <th>buy_ts</th>\n",
       "      <th>uid</th>\n",
       "      <th>revenue</th>\n",
       "      <th>first_buy_month</th>\n",
       "    </tr>\n",
       "  </thead>\n",
       "  <tbody>\n",
       "    <tr>\n",
       "      <th>0</th>\n",
       "      <td>2016-07-01</td>\n",
       "      <td>3492372810</td>\n",
       "      <td>1.47</td>\n",
       "      <td>2016-07-01</td>\n",
       "    </tr>\n",
       "    <tr>\n",
       "      <th>1</th>\n",
       "      <td>2017-04-01</td>\n",
       "      <td>3492372810</td>\n",
       "      <td>0.49</td>\n",
       "      <td>2016-07-01</td>\n",
       "    </tr>\n",
       "    <tr>\n",
       "      <th>2</th>\n",
       "      <td>2016-06-01</td>\n",
       "      <td>1564753091</td>\n",
       "      <td>1.11</td>\n",
       "      <td>2016-06-01</td>\n",
       "    </tr>\n",
       "    <tr>\n",
       "      <th>3</th>\n",
       "      <td>2017-01-01</td>\n",
       "      <td>1385616391</td>\n",
       "      <td>16.80</td>\n",
       "      <td>2017-01-01</td>\n",
       "    </tr>\n",
       "    <tr>\n",
       "      <th>4</th>\n",
       "      <td>2017-11-01</td>\n",
       "      <td>2636761148</td>\n",
       "      <td>11.00</td>\n",
       "      <td>2016-06-01</td>\n",
       "    </tr>\n",
       "  </tbody>\n",
       "</table>\n",
       "</div>"
      ],
      "text/plain": [
       "      buy_ts         uid  revenue first_buy_month\n",
       "0 2016-07-01  3492372810     1.47      2016-07-01\n",
       "1 2017-04-01  3492372810     0.49      2016-07-01\n",
       "2 2016-06-01  1564753091     1.11      2016-06-01\n",
       "3 2017-01-01  1385616391    16.80      2017-01-01\n",
       "4 2017-11-01  2636761148    11.00      2016-06-01"
      ]
     },
     "execution_count": 283,
     "metadata": {},
     "output_type": "execute_result"
    }
   ],
   "source": [
    "cohort_sizes = first_purchases.groupby('first_buy_month').agg({'uid': 'nunique'}).reset_index() #группируем таблицу с количеством покупателя в каждом месяце\n",
    "cohort_sizes.columns = ['first_buy_month', 'n_buyers']\n",
    "purchases_new = pd.merge(purchases,first_purchases, on='uid') #объединяем таблицу purchases с first_purchases\n",
    "purchases_new.head()"
   ]
  },
  {
   "cell_type": "code",
   "execution_count": 284,
   "metadata": {},
   "outputs": [
    {
     "data": {
      "text/html": [
       "<div>\n",
       "<style scoped>\n",
       "    .dataframe tbody tr th:only-of-type {\n",
       "        vertical-align: middle;\n",
       "    }\n",
       "\n",
       "    .dataframe tbody tr th {\n",
       "        vertical-align: top;\n",
       "    }\n",
       "\n",
       "    .dataframe thead th {\n",
       "        text-align: right;\n",
       "    }\n",
       "</style>\n",
       "<table border=\"1\" class=\"dataframe\">\n",
       "  <thead>\n",
       "    <tr style=\"text-align: right;\">\n",
       "      <th></th>\n",
       "      <th>first_buy_month</th>\n",
       "      <th>buy_ts</th>\n",
       "      <th>revenue</th>\n",
       "    </tr>\n",
       "  </thead>\n",
       "  <tbody>\n",
       "    <tr>\n",
       "      <th>0</th>\n",
       "      <td>2016-01-01</td>\n",
       "      <td>2016-01-01</td>\n",
       "      <td>5835.27</td>\n",
       "    </tr>\n",
       "    <tr>\n",
       "      <th>1</th>\n",
       "      <td>2016-01-01</td>\n",
       "      <td>2016-02-01</td>\n",
       "      <td>1076.49</td>\n",
       "    </tr>\n",
       "    <tr>\n",
       "      <th>2</th>\n",
       "      <td>2016-01-01</td>\n",
       "      <td>2016-03-01</td>\n",
       "      <td>712.10</td>\n",
       "    </tr>\n",
       "    <tr>\n",
       "      <th>3</th>\n",
       "      <td>2016-01-01</td>\n",
       "      <td>2016-04-01</td>\n",
       "      <td>1270.21</td>\n",
       "    </tr>\n",
       "    <tr>\n",
       "      <th>4</th>\n",
       "      <td>2016-01-01</td>\n",
       "      <td>2016-05-01</td>\n",
       "      <td>1205.27</td>\n",
       "    </tr>\n",
       "  </tbody>\n",
       "</table>\n",
       "</div>"
      ],
      "text/plain": [
       "  first_buy_month     buy_ts  revenue\n",
       "0      2016-01-01 2016-01-01  5835.27\n",
       "1      2016-01-01 2016-02-01  1076.49\n",
       "2      2016-01-01 2016-03-01   712.10\n",
       "3      2016-01-01 2016-04-01  1270.21\n",
       "4      2016-01-01 2016-05-01  1205.27"
      ]
     },
     "execution_count": 284,
     "metadata": {},
     "output_type": "execute_result"
    }
   ],
   "source": [
    "cohorts = purchases_new.groupby(['first_buy_month','buy_ts']).agg({'revenue': 'sum'}).reset_index() #группируем таблицу по первому месяцу, месяцу заказа и суммы покупки\n",
    "cohorts.head()"
   ]
  },
  {
   "cell_type": "code",
   "execution_count": 285,
   "metadata": {},
   "outputs": [
    {
     "data": {
      "text/html": [
       "<div>\n",
       "<style scoped>\n",
       "    .dataframe tbody tr th:only-of-type {\n",
       "        vertical-align: middle;\n",
       "    }\n",
       "\n",
       "    .dataframe tbody tr th {\n",
       "        vertical-align: top;\n",
       "    }\n",
       "\n",
       "    .dataframe thead th {\n",
       "        text-align: right;\n",
       "    }\n",
       "</style>\n",
       "<table border=\"1\" class=\"dataframe\">\n",
       "  <thead>\n",
       "    <tr style=\"text-align: right;\">\n",
       "      <th></th>\n",
       "      <th>first_buy_month</th>\n",
       "      <th>n_buyers</th>\n",
       "      <th>buy_ts</th>\n",
       "      <th>revenue</th>\n",
       "    </tr>\n",
       "  </thead>\n",
       "  <tbody>\n",
       "    <tr>\n",
       "      <th>0</th>\n",
       "      <td>2016-01-01</td>\n",
       "      <td>1103</td>\n",
       "      <td>2016-01-01</td>\n",
       "      <td>5835.27</td>\n",
       "    </tr>\n",
       "    <tr>\n",
       "      <th>1</th>\n",
       "      <td>2016-01-01</td>\n",
       "      <td>1103</td>\n",
       "      <td>2016-02-01</td>\n",
       "      <td>1076.49</td>\n",
       "    </tr>\n",
       "    <tr>\n",
       "      <th>2</th>\n",
       "      <td>2016-01-01</td>\n",
       "      <td>1103</td>\n",
       "      <td>2016-03-01</td>\n",
       "      <td>712.10</td>\n",
       "    </tr>\n",
       "    <tr>\n",
       "      <th>3</th>\n",
       "      <td>2016-01-01</td>\n",
       "      <td>1103</td>\n",
       "      <td>2016-04-01</td>\n",
       "      <td>1270.21</td>\n",
       "    </tr>\n",
       "    <tr>\n",
       "      <th>4</th>\n",
       "      <td>2016-01-01</td>\n",
       "      <td>1103</td>\n",
       "      <td>2016-05-01</td>\n",
       "      <td>1205.27</td>\n",
       "    </tr>\n",
       "  </tbody>\n",
       "</table>\n",
       "</div>"
      ],
      "text/plain": [
       "  first_buy_month  n_buyers     buy_ts  revenue\n",
       "0      2016-01-01      1103 2016-01-01  5835.27\n",
       "1      2016-01-01      1103 2016-02-01  1076.49\n",
       "2      2016-01-01      1103 2016-03-01   712.10\n",
       "3      2016-01-01      1103 2016-04-01  1270.21\n",
       "4      2016-01-01      1103 2016-05-01  1205.27"
      ]
     },
     "execution_count": 285,
     "metadata": {},
     "output_type": "execute_result"
    }
   ],
   "source": [
    "data = pd.merge(cohort_sizes, cohorts, on='first_buy_month') #создаем отдельны датасет для удобства\n",
    "data.head()"
   ]
  },
  {
   "cell_type": "code",
   "execution_count": 286,
   "metadata": {},
   "outputs": [],
   "source": [
    "margin_rate = 1 #частоту повторных покупок делаем равной 1, тк. точных данных нет"
   ]
  },
  {
   "cell_type": "code",
   "execution_count": 287,
   "metadata": {},
   "outputs": [
    {
     "data": {
      "text/plain": [
       "0      5835.27\n",
       "1      1076.49\n",
       "2       712.10\n",
       "3      1270.21\n",
       "4      1205.27\n",
       "        ...   \n",
       "295      27.71\n",
       "296      16.83\n",
       "297    2705.22\n",
       "298      60.37\n",
       "299    2812.02\n",
       "Name: gp, Length: 300, dtype: float64"
      ]
     },
     "execution_count": 287,
     "metadata": {},
     "output_type": "execute_result"
    }
   ],
   "source": [
    "data['gp'] = data['revenue'] * margin_rate #расчет валовой прибыли\n",
    "data['gp']"
   ]
  },
  {
   "cell_type": "code",
   "execution_count": 288,
   "metadata": {},
   "outputs": [
    {
     "data": {
      "text/plain": [
       "7.666666666666667"
      ]
     },
     "execution_count": 288,
     "metadata": {},
     "output_type": "execute_result"
    }
   ],
   "source": [
    "data['age'] = (data['buy_ts'] - data['first_buy_month']) / np.timedelta64(1, 'M') #расчет среднего возраста\n",
    "data['age'] = data['age'].round().astype('int')\n",
    "data['age'].mean()"
   ]
  },
  {
   "cell_type": "code",
   "execution_count": 289,
   "metadata": {},
   "outputs": [
    {
     "data": {
      "text/plain": [
       "0      5.290363\n",
       "1      0.975966\n",
       "2      0.645603\n",
       "3      1.151596\n",
       "4      1.092720\n",
       "         ...   \n",
       "295    0.039642\n",
       "296    0.024077\n",
       "297    4.068000\n",
       "298    0.090782\n",
       "299    4.286616\n",
       "Name: ltv, Length: 300, dtype: float64"
      ]
     },
     "execution_count": 289,
     "metadata": {},
     "output_type": "execute_result"
    }
   ],
   "source": [
    "data['ltv'] = data['gp'] / data['n_buyers'] #расчет LTV\n",
    "data['ltv']"
   ]
  },
  {
   "cell_type": "code",
   "execution_count": 290,
   "metadata": {},
   "outputs": [],
   "source": [
    "output = data.pivot_table(       \n",
    "        index='first_buy_month',\n",
    "        columns='age', \n",
    "        values='ltv', \n",
    "        aggfunc='mean').round(2).cumsum(axis = 1)\n",
    "#Формирование итоговой таблицы"
   ]
  },
  {
   "cell_type": "code",
   "execution_count": 291,
   "metadata": {},
   "outputs": [
    {
     "data": {
      "image/png": "[encoded data removed]",
      "text/plain": [
       "<Figure size 1080x648 with 2 Axes>"
      ]
     },
     "metadata": {
      "needs_background": "light"
     },
     "output_type": "display_data"
    }
   ],
   "source": [
    "plt.figure(figsize=(15, 9))\n",
    "plt.title('Показатель LTV')\n",
    "x = pd.DataFrame({'month': output.index})\n",
    "x = x['month'].apply(lambda x: x.strftime(\"%Y-%m\")).to_list()\n",
    "sns.heatmap(output, robust=True, fmt='.1f', linewidths=1, linecolor='white', cmap=\"coolwarm\", yticklabels=x)\n",
    "plt.ylabel('Когорты')\n",
    "plt.xlabel('Возраст когорты')\n",
    "plt.show()\n",
    "#тепловая диаграмма"
   ]
  },
  {
   "cell_type": "code",
   "execution_count": 292,
   "metadata": {},
   "outputs": [
    {
     "name": "stdout",
     "output_type": "stream",
     "text": [
      "Среднее LTV за 6 месяцев состовляет: 6.23\n"
     ]
    }
   ],
   "source": [
    "cohort_ltv_mean = float(output[[5]].head(7).mean())\n",
    "print('Среднее LTV за 6 месяцев состовляет: {:.2f}'.format(cohort_ltv_mean))"
   ]
  },
  {
   "cell_type": "markdown",
   "metadata": {},
   "source": [
    "## Вывод:\n",
    "С помощью когортного анализа, смогли посчитать средний LTV пользователя за 6 месяцев, который равен 6.23"
   ]
  },
  {
   "cell_type": "markdown",
   "metadata": {},
   "source": [
    "## 3. Рекомендации по улучшению LTV"
   ]
  },
  {
   "cell_type": "markdown",
   "metadata": {},
   "source": [
    "#### Посчитаем среднее количество пользователей за месяц и сравним их количество на разных устройствах:"
   ]
  },
  {
   "cell_type": "code",
   "execution_count": 314,
   "metadata": {},
   "outputs": [
    {
     "name": "stdout",
     "output_type": "stream",
     "text": [
      "Среднее количество уникальных пользователей для ПК в месяц: 29737.33\n",
      "Среднее количество уникальных пользователей для смартфонов в месяц: 12368.08\n"
     ]
    }
   ],
   "source": [
    "month = visits.groupby(['device', 'session_year', 'session_month']).agg({'uid': 'nunique'})\n",
    "month = month.pivot_table(index='session_month', columns='device', values='uid')\n",
    "month_desk = month['desktop'].mean()\n",
    "month_touch = month['touch'].mean()\n",
    "\n",
    "print('Среднее количество уникальных пользователей для ПК в месяц: {:.2f}'.format(month_desk))\n",
    "print('Среднее количество уникальных пользователей для смартфонов в месяц: {:.2f}'.format(month_touch))"
   ]
  },
  {
   "cell_type": "code",
   "execution_count": 315,
   "metadata": {},
   "outputs": [],
   "source": [
    "visits['duration_ses'] = (visits['end_ts'] - visits['start_ts']) / np.timedelta64(1,'s')"
   ]
  },
  {
   "cell_type": "code",
   "execution_count": 316,
   "metadata": {},
   "outputs": [
    {
     "data": {
      "image/png": "[encoded data removed]",
      "text/plain": [
       "<Figure size 432x288 with 1 Axes>"
      ]
     },
     "metadata": {
      "needs_background": "light"
     },
     "output_type": "display_data"
    }
   ],
   "source": [
    "visits.query('device ==\"desktop\"').boxplot('duration_ses') #бохплот для ПК\n",
    "plt.ylim(0, 1200)\n",
    "plt.xlabel('ПК')\n",
    "plt.ylabel('Время')\n",
    "plt.show()"
   ]
  },
  {
   "cell_type": "code",
   "execution_count": 317,
   "metadata": {},
   "outputs": [
    {
     "data": {
      "image/png": "[encoded data removed]",
      "text/plain": [
       "<Figure size 432x288 with 1 Axes>"
      ]
     },
     "metadata": {
      "needs_background": "light"
     },
     "output_type": "display_data"
    }
   ],
   "source": [
    "visits.query('device ==\"touch\"').boxplot('duration_ses') #бохплот для смартфонов\n",
    "plt.ylim(0, 1000)\n",
    "plt.xlabel('Смартфоны')\n",
    "plt.ylabel('Время')\n",
    "plt.show()"
   ]
  },
  {
   "cell_type": "code",
   "execution_count": 318,
   "metadata": {},
   "outputs": [
    {
     "name": "stdout",
     "output_type": "stream",
     "text": [
      "Медианна общих сессий: 395 сек\n",
      "Медианна ПК сессий: 438 сек\n",
      "Медианна смартфон сессий: 308 сек\n"
     ]
    }
   ],
   "source": [
    "visits_med = visits['duration_ses'].median()\n",
    "visits_dec = visits.query('device == \"desktop\"')['duration_ses'].median()\n",
    "visits_touch = visits.query('device == \"touch\"')['duration_ses'].median()\n",
    "\n",
    "print('Медианна общих сессий: {:.0f} сек'.format(visits_med))\n",
    "print('Медианна ПК сессий: {:.0f} сек'.format(visits_dec))\n",
    "print('Медианна смартфон сессий: {:.0f} сек'.format(visits_touch))"
   ]
  },
  {
   "cell_type": "code",
   "execution_count": 320,
   "metadata": {},
   "outputs": [
    {
     "name": "stdout",
     "output_type": "stream",
     "text": [
      "Общая средняя продолжительность сессий: 754 сек\n",
      "Средняя продолжительность ПК сессий: 816 сек\n",
      "Средняя продолжительность смартфон сессий: 587 сек\n"
     ]
    }
   ],
   "source": [
    "visits_mean = visits['duration_ses'].mean()\n",
    "visits_dec_mean = visits.query('device == \"desktop\"')['duration_ses'].mean()\n",
    "visits_touch_mean = visits.query('device == \"touch\"')['duration_ses'].mean()\n",
    "\n",
    "print('Общая средняя продолжительность сессий: {:.0f} сек'.format(visits_mean))\n",
    "print('Средняя продолжительность ПК сессий: {:.0f} сек'.format(visits_dec_mean))\n",
    "print('Средняя продолжительность смартфон сессий: {:.0f} сек'.format(visits_touch_mean))"
   ]
  },
  {
   "cell_type": "markdown",
   "metadata": {},
   "source": [
    "## Вывод:\n",
    "\n",
    "Среднее количество пользователей ПК в месяц больше, чем пользователей смартфонов, практически в 2.5 раза. Это объясняется тем, что пользоваться сервисом удобнее на ПК, чем мобильной версией.\n",
    "\n",
    "Средняя продолжительность сессий состовляет 754 сек.. У ПК версии среднее значение больше общего, а у мобильной версии меньше общего. Можно сделать вывод, что пользователи на ПК смогут точно произвести конверсию, в отличие от мобильной версии.\n",
    "\n",
    "Медианное значение показывает, что распределение значений неравномерно.\n",
    "\n"
   ]
  },
  {
   "cell_type": "markdown",
   "metadata": {},
   "source": [
    "## Рекомендации:\n",
    "\n",
    "Из анализа пользователей и средней сессии удалось вычислить, что пользователей ПК версии больше в 2.5 раза. Предлагаю поработать над мобильной версией продукта, а именно UI/UX интерфейсом, так-как было определено, что версия для ПК гораздо удобнее и средняя продолжительность сессии занимает 816 сек, а мобильная версии 587 сек, что меньше общей средней продолжительной сессиии. Стоит провести CustDev и узнать у пользователей, что именно им не нравится и об их опыте работы с данным продуктом."
   ]
  }
 ],
 "metadata": {
  "kernelspec": {
   "display_name": "Python 3",
   "language": "python",
   "name": "python3"
  },
  "language_info": {
   "codemirror_mode": {
    "name": "ipython",
    "version": 3
   },
   "file_extension": ".py",
   "mimetype": "text/x-python",
   "name": "python",
   "nbconvert_exporter": "python",
   "pygments_lexer": "ipython3",
   "version": "3.8.5"
  }
 },
 "nbformat": 4,
 "nbformat_minor": 4
}
